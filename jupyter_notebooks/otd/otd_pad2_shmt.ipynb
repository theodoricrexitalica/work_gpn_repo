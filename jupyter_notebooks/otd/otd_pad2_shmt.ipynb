{
 "cells": [
  {
   "cell_type": "code",
   "execution_count": 1,
   "metadata": {},
   "outputs": [],
   "source": [
    "import os\n",
    "import pandas as pd\n",
    "import numpy as np\n",
    "import matplotlib.pyplot as plt\n",
    "from matplotlib.ticker import MultipleLocator, ScalarFormatter\n",
    "from matplotlib.patches import Rectangle"
   ]
  },
  {
   "cell_type": "code",
   "execution_count": 2,
   "metadata": {},
   "outputs": [],
   "source": [
    "def month_change(date):\n",
    "    dict_m = {'янв': 'Jan','фев': 'Feb','март': 'Mar','апр': 'Apr','май': 'May','июнь': 'Jun','июль': 'Jul','авг': 'Aug', 'сен': 'Sep', 'окт': 'Oct', 'ноя': 'Nov', 'дек': 'Dec'}\n",
    "    for month in date.split(' '):\n",
    "        for j in dict_m.keys():\n",
    "            if month == j:\n",
    "                month = dict_m[j]\n",
    "                res = ' '.join([date.split(' ')[0], month, date.split(' ')[2]])\n",
    "            else:\n",
    "                month = month\n",
    "    return res"
   ]
  },
  {
   "cell_type": "code",
   "execution_count": 3,
   "metadata": {},
   "outputs": [],
   "source": [
    "def month_dig_change(date):\n",
    "    dict_m = {'1': '01','2': '02','3': '03','4': '04','5': '05','6': '06','7': '07','8': '08', '9': '09', '10': '10', '11': '11', '12': '12'}\n",
    "    res = []\n",
    "    for month in date.split('.')[0]:\n",
    "        for j in dict_m.keys():\n",
    "            if month == j:\n",
    "                res = '.'.join([dict_m[j], date.split('.')[1]])\n",
    "    return res"
   ]
  },
  {
   "cell_type": "code",
   "execution_count": 4,
   "metadata": {},
   "outputs": [],
   "source": [
    "def year_dig_change(date):\n",
    "    dict_m = {'202': '2020', '201': '2010'}\n",
    "    res = []\n",
    "    for year in date.split('.'):\n",
    "        for j in dict_m.keys():\n",
    "\n",
    "            if year == j:\n",
    "                res = '.'.join([date.split('.')[0], dict_m[j]])\n",
    "                break\n",
    "            else:\n",
    "                res = '.'.join([date.split('.')[0], date.split('.')[1]])\n",
    "\n",
    "    return res"
   ]
  },
  {
   "cell_type": "markdown",
   "metadata": {},
   "source": [
    "## Data Upload"
   ]
  },
  {
   "cell_type": "code",
   "execution_count": 45,
   "metadata": {},
   "outputs": [
    {
     "name": "stdout",
     "output_type": "stream",
     "text": [
      "Wall time: 114 ms\n"
     ]
    },
    {
     "data": {
      "text/html": [
       "<div>\n",
       "<style scoped>\n",
       "    .dataframe tbody tr th:only-of-type {\n",
       "        vertical-align: middle;\n",
       "    }\n",
       "\n",
       "    .dataframe tbody tr th {\n",
       "        vertical-align: top;\n",
       "    }\n",
       "\n",
       "    .dataframe thead th {\n",
       "        text-align: right;\n",
       "    }\n",
       "</style>\n",
       "<table border=\"1\" class=\"dataframe\">\n",
       "  <thead>\n",
       "    <tr style=\"text-align: right;\">\n",
       "      <th></th>\n",
       "      <th>Unnamed: 0</th>\n",
       "      <th>Тип</th>\n",
       "      <th>Нсп</th>\n",
       "      <th>ТМ</th>\n",
       "      <th>Дисп</th>\n",
       "      <th>OIS</th>\n",
       "      <th>Сод.нефтепрод (ХАЛ)</th>\n",
       "      <th>Qж_мас ТМ</th>\n",
       "      <th>Qгаз ТМ</th>\n",
       "      <th>Qж ТОР ТМ</th>\n",
       "      <th>...</th>\n",
       "      <th>Рзатр</th>\n",
       "      <th>Рбуф</th>\n",
       "      <th>Dшт</th>\n",
       "      <th>Рлин</th>\n",
       "      <th>КВЧ ХАЛ</th>\n",
       "      <th>I</th>\n",
       "      <th>F</th>\n",
       "      <th>Прим</th>\n",
       "      <th>Вибр.</th>\n",
       "      <th>well</th>\n",
       "    </tr>\n",
       "  </thead>\n",
       "  <tbody>\n",
       "    <tr>\n",
       "      <th>0</th>\n",
       "      <td>31 дек 2022</td>\n",
       "      <td>0215ЭЦНАКИ5А-160-2800</td>\n",
       "      <td>3337,78 м</td>\n",
       "      <td>Запуск</td>\n",
       "      <td>NaN</td>\n",
       "      <td>раб.</td>\n",
       "      <td>NaN</td>\n",
       "      <td>NaN</td>\n",
       "      <td>NaN</td>\n",
       "      <td>NaN</td>\n",
       "      <td>...</td>\n",
       "      <td>NaN</td>\n",
       "      <td>NaN</td>\n",
       "      <td>NaN</td>\n",
       "      <td>NaN</td>\n",
       "      <td>NaN</td>\n",
       "      <td>NaN</td>\n",
       "      <td>NaN</td>\n",
       "      <td>NaN</td>\n",
       "      <td>NaN</td>\n",
       "      <td>34</td>\n",
       "    </tr>\n",
       "    <tr>\n",
       "      <th>1</th>\n",
       "      <td>30 дек 2022</td>\n",
       "      <td>0215ЭЦНАКИ5А-160-2800</td>\n",
       "      <td>3337,78 м</td>\n",
       "      <td>Запуск</td>\n",
       "      <td>NaN</td>\n",
       "      <td>раб.</td>\n",
       "      <td>NaN</td>\n",
       "      <td>NaN</td>\n",
       "      <td>NaN</td>\n",
       "      <td>NaN</td>\n",
       "      <td>...</td>\n",
       "      <td>NaN</td>\n",
       "      <td>NaN</td>\n",
       "      <td>NaN</td>\n",
       "      <td>NaN</td>\n",
       "      <td>NaN</td>\n",
       "      <td>NaN</td>\n",
       "      <td>NaN</td>\n",
       "      <td>NaN</td>\n",
       "      <td>NaN</td>\n",
       "      <td>34</td>\n",
       "    </tr>\n",
       "    <tr>\n",
       "      <th>2</th>\n",
       "      <td>29 дек 2022</td>\n",
       "      <td>0215ЭЦНАКИ5А-160-2800</td>\n",
       "      <td>3337,78 м</td>\n",
       "      <td>Запуск</td>\n",
       "      <td>NaN</td>\n",
       "      <td>раб.</td>\n",
       "      <td>NaN</td>\n",
       "      <td>NaN</td>\n",
       "      <td>NaN</td>\n",
       "      <td>NaN</td>\n",
       "      <td>...</td>\n",
       "      <td>NaN</td>\n",
       "      <td>NaN</td>\n",
       "      <td>NaN</td>\n",
       "      <td>NaN</td>\n",
       "      <td>NaN</td>\n",
       "      <td>NaN</td>\n",
       "      <td>NaN</td>\n",
       "      <td>NaN</td>\n",
       "      <td>NaN</td>\n",
       "      <td>34</td>\n",
       "    </tr>\n",
       "    <tr>\n",
       "      <th>3</th>\n",
       "      <td>28 дек 2022</td>\n",
       "      <td>0215ЭЦНАКИ5А-160-2800</td>\n",
       "      <td>3337,78 м</td>\n",
       "      <td>Запуск</td>\n",
       "      <td>NaN</td>\n",
       "      <td>раб.</td>\n",
       "      <td>NaN</td>\n",
       "      <td>NaN</td>\n",
       "      <td>NaN</td>\n",
       "      <td>NaN</td>\n",
       "      <td>...</td>\n",
       "      <td>NaN</td>\n",
       "      <td>NaN</td>\n",
       "      <td>NaN</td>\n",
       "      <td>NaN</td>\n",
       "      <td>NaN</td>\n",
       "      <td>NaN</td>\n",
       "      <td>NaN</td>\n",
       "      <td>NaN</td>\n",
       "      <td>NaN</td>\n",
       "      <td>34</td>\n",
       "    </tr>\n",
       "    <tr>\n",
       "      <th>4</th>\n",
       "      <td>27 дек 2022</td>\n",
       "      <td>0215ЭЦНАКИ5А-160-2800</td>\n",
       "      <td>3337,78 м</td>\n",
       "      <td>Запуск</td>\n",
       "      <td>NaN</td>\n",
       "      <td>раб.</td>\n",
       "      <td>NaN</td>\n",
       "      <td>NaN</td>\n",
       "      <td>NaN</td>\n",
       "      <td>NaN</td>\n",
       "      <td>...</td>\n",
       "      <td>NaN</td>\n",
       "      <td>NaN</td>\n",
       "      <td>NaN</td>\n",
       "      <td>NaN</td>\n",
       "      <td>NaN</td>\n",
       "      <td>NaN</td>\n",
       "      <td>NaN</td>\n",
       "      <td>NaN</td>\n",
       "      <td>NaN</td>\n",
       "      <td>34</td>\n",
       "    </tr>\n",
       "  </tbody>\n",
       "</table>\n",
       "<p>5 rows × 32 columns</p>\n",
       "</div>"
      ],
      "text/plain": [
       "    Unnamed: 0                    Тип         Нсп      ТМ Дисп   OIS  \\\n",
       "0  31 дек 2022  0215ЭЦНАКИ5А-160-2800   3337,78 м  Запуск  NaN  раб.   \n",
       "1  30 дек 2022  0215ЭЦНАКИ5А-160-2800   3337,78 м  Запуск  NaN  раб.   \n",
       "2  29 дек 2022  0215ЭЦНАКИ5А-160-2800   3337,78 м  Запуск  NaN  раб.   \n",
       "3  28 дек 2022  0215ЭЦНАКИ5А-160-2800   3337,78 м  Запуск  NaN  раб.   \n",
       "4  27 дек 2022  0215ЭЦНАКИ5А-160-2800   3337,78 м  Запуск  NaN  раб.   \n",
       "\n",
       "   Сод.нефтепрод (ХАЛ)  Qж_мас ТМ  Qгаз ТМ  Qж ТОР ТМ  ...  Рзатр  Рбуф  Dшт  \\\n",
       "0                  NaN        NaN      NaN        NaN  ...    NaN   NaN  NaN   \n",
       "1                  NaN        NaN      NaN        NaN  ...    NaN   NaN  NaN   \n",
       "2                  NaN        NaN      NaN        NaN  ...    NaN   NaN  NaN   \n",
       "3                  NaN        NaN      NaN        NaN  ...    NaN   NaN  NaN   \n",
       "4                  NaN        NaN      NaN        NaN  ...    NaN   NaN  NaN   \n",
       "\n",
       "   Рлин  КВЧ ХАЛ   I   F  Прим  Вибр.  well  \n",
       "0   NaN      NaN NaN NaN   NaN    NaN    34  \n",
       "1   NaN      NaN NaN NaN   NaN    NaN    34  \n",
       "2   NaN      NaN NaN NaN   NaN    NaN    34  \n",
       "3   NaN      NaN NaN NaN   NaN    NaN    34  \n",
       "4   NaN      NaN NaN NaN   NaN    NaN    34  \n",
       "\n",
       "[5 rows x 32 columns]"
      ]
     },
     "execution_count": 45,
     "metadata": {},
     "output_type": "execute_result"
    }
   ],
   "source": [
    "%%time\n",
    "from pathlib import Path\n",
    "path = os.getcwd()\n",
    "files = Path(path).glob('*.xls')\n",
    "dfs = list()\n",
    "for f in files:\n",
    "    data = pd.read_excel(f, header = 2)\n",
    "    wellName = str((f.stem)).split('.')[1]\n",
    "    wellName = (wellName.split('(')[0]).strip()\n",
    "    data['well'] = wellName\n",
    "    dfs.append(data)\n",
    "\n",
    "shmt_init = pd.concat(dfs, ignore_index=True)\n",
    "shmt_init.head()"
   ]
  },
  {
   "cell_type": "code",
   "execution_count": 48,
   "metadata": {},
   "outputs": [
    {
     "data": {
      "text/plain": [
       "array(['34', '35', '36', '38', '39'], dtype=object)"
      ]
     },
     "execution_count": 48,
     "metadata": {},
     "output_type": "execute_result"
    }
   ],
   "source": [
    "shmt_init.well.unique()"
   ]
  },
  {
   "cell_type": "code",
   "execution_count": 46,
   "metadata": {},
   "outputs": [
    {
     "name": "stdout",
     "output_type": "stream",
     "text": [
      "<class 'pandas.core.frame.DataFrame'>\n",
      "RangeIndex: 1825 entries, 0 to 1824\n",
      "Data columns (total 32 columns):\n",
      " #   Column               Non-Null Count  Dtype  \n",
      "---  ------               --------------  -----  \n",
      " 0   Unnamed: 0           1825 non-null   object \n",
      " 1   Тип                  616 non-null    object \n",
      " 2   Нсп                  616 non-null    object \n",
      " 3   ТМ                   1825 non-null   object \n",
      " 4   Дисп                 27 non-null     object \n",
      " 5   OIS                  635 non-null    object \n",
      " 6   Сод.нефтепрод (ХАЛ)  0 non-null      float64\n",
      " 7   Qж_мас ТМ            466 non-null    float64\n",
      " 8   Qгаз ТМ              466 non-null    float64\n",
      " 9   Qж ТОР ТМ            0 non-null      float64\n",
      " 10  U отп. (ТМ)          433 non-null    float64\n",
      " 11  Qж ТМ                466 non-null    float64\n",
      " 12  Qж(тн)               466 non-null    float64\n",
      " 13  УРЭ К                470 non-null    float64\n",
      " 14  УРЭ                  309 non-null    float64\n",
      " 15  Э/э (Wакт)           470 non-null    float64\n",
      " 16  Qж                   467 non-null    float64\n",
      " 17  ТРИЗ                 0 non-null      float64\n",
      " 18  Обв ХАЛ              459 non-null    float64\n",
      " 19  Обв                  460 non-null    float64\n",
      " 20  Qн                   467 non-null    float64\n",
      " 21  Нд                   458 non-null    float64\n",
      " 22  Рзатр                458 non-null    float64\n",
      " 23  Рбуф                 458 non-null    float64\n",
      " 24  Dшт                  196 non-null    float64\n",
      " 25  Рлин                 466 non-null    float64\n",
      " 26  КВЧ ХАЛ              457 non-null    float64\n",
      " 27  I                    461 non-null    float64\n",
      " 28  F                    461 non-null    float64\n",
      " 29  Прим                 425 non-null    object \n",
      " 30  Вибр.                0 non-null      float64\n",
      " 31  well                 1825 non-null   object \n",
      "dtypes: float64(24), object(8)\n",
      "memory usage: 456.4+ KB\n"
     ]
    }
   ],
   "source": [
    "shmt_init.info()"
   ]
  },
  {
   "cell_type": "code",
   "execution_count": 60,
   "metadata": {},
   "outputs": [
    {
     "name": "stdout",
     "output_type": "stream",
     "text": [
      "Wall time: 131 ms\n"
     ]
    },
    {
     "name": "stderr",
     "output_type": "stream",
     "text": [
      "<timed exec>:20: SettingWithCopyWarning: \n",
      "A value is trying to be set on a copy of a slice from a DataFrame.\n",
      "Try using .loc[row_indexer,col_indexer] = value instead\n",
      "\n",
      "See the caveats in the documentation: https://pandas.pydata.org/pandas-docs/stable/user_guide/indexing.html#returning-a-view-versus-a-copy\n",
      "<timed exec>:21: SettingWithCopyWarning: \n",
      "A value is trying to be set on a copy of a slice from a DataFrame.\n",
      "Try using .loc[row_indexer,col_indexer] = value instead\n",
      "\n",
      "See the caveats in the documentation: https://pandas.pydata.org/pandas-docs/stable/user_guide/indexing.html#returning-a-view-versus-a-copy\n",
      "<timed exec>:22: SettingWithCopyWarning: \n",
      "A value is trying to be set on a copy of a slice from a DataFrame.\n",
      "Try using .loc[row_indexer,col_indexer] = value instead\n",
      "\n",
      "See the caveats in the documentation: https://pandas.pydata.org/pandas-docs/stable/user_guide/indexing.html#returning-a-view-versus-a-copy\n",
      "<timed exec>:23: SettingWithCopyWarning: \n",
      "A value is trying to be set on a copy of a slice from a DataFrame.\n",
      "Try using .loc[row_indexer,col_indexer] = value instead\n",
      "\n",
      "See the caveats in the documentation: https://pandas.pydata.org/pandas-docs/stable/user_guide/indexing.html#returning-a-view-versus-a-copy\n"
     ]
    }
   ],
   "source": [
    "%%time\n",
    "shmt_init.rename(columns = \n",
    "            {'Unnamed: 0':'date',\n",
    "            'Тип':'pump_type',\n",
    "            'Нсп':'depth_pump',\n",
    "            'ТМ':'tm',\n",
    "            'Дисп':'disp',\n",
    "            'OIS':'ois',\n",
    "            'Qж_мас ТМ':'q_liqm_tm',\n",
    "            'Qж':'q_liq',\n",
    "            'Qж ТМ':'q_liq_tm',\n",
    "            'Qж ТМ (исх)':'q_liq_tm_init',\n",
    "            'Обв ХАЛ':'wc_chem',\n",
    "            'Обв':'wc',\n",
    "            'Qн':'q_oil',\n",
    "            'Qн ТМ':'q_oil_tm',\n",
    "            'Pзаб(PпрTM)':'bhp_tm',\n",
    "            'Pзаб (иссл.)':'bhp_rsch',\n",
    "            'Pпл кр.':'res_press'}, inplace=True)\n",
    "shmt = shmt_init[['well', 'date', 'q_liq', 'q_oil', 'wc', 'wc_chem', 'pump_type']]\n",
    "shmt['well'] = shmt['well'].astype(\"string\")\n",
    "shmt['date'] = shmt['date'].astype(\"string\")\n",
    "shmt['date'] = shmt['date'].apply(lambda x: month_change(x))\n",
    "shmt['date'] = pd.to_datetime(shmt['date'])"
   ]
  },
  {
   "cell_type": "code",
   "execution_count": 61,
   "metadata": {},
   "outputs": [
    {
     "data": {
      "text/plain": [
       "<StringArray>\n",
       "['34', '35', '36', '38', '39']\n",
       "Length: 5, dtype: string"
      ]
     },
     "execution_count": 61,
     "metadata": {},
     "output_type": "execute_result"
    }
   ],
   "source": [
    "shmt.well.unique()"
   ]
  },
  {
   "cell_type": "code",
   "execution_count": 58,
   "metadata": {},
   "outputs": [
    {
     "name": "stdout",
     "output_type": "stream",
     "text": [
      "<class 'pandas.core.frame.DataFrame'>\n",
      "RangeIndex: 2190 entries, 0 to 2189\n",
      "Data columns (total 7 columns):\n",
      " #   Column     Non-Null Count  Dtype         \n",
      "---  ------     --------------  -----         \n",
      " 0   well       2190 non-null   string        \n",
      " 1   date       2190 non-null   datetime64[ns]\n",
      " 2   q_liq      473 non-null    float64       \n",
      " 3   q_oil      473 non-null    float64       \n",
      " 4   wc         466 non-null    float64       \n",
      " 5   wc_chem    465 non-null    float64       \n",
      " 6   pump_type  720 non-null    object        \n",
      "dtypes: datetime64[ns](1), float64(4), object(1), string(1)\n",
      "memory usage: 119.9+ KB\n"
     ]
    }
   ],
   "source": [
    "shmt.info()"
   ]
  },
  {
   "cell_type": "code",
   "execution_count": 1,
   "metadata": {},
   "outputs": [],
   "source": [
    "# ngt_init = pd.read_csv('ngt6001.csv', sep=';')\n",
    "# ngt_init[:-1]\n",
    "# ngt_init.rename(columns = \n",
    "#             {'Скважина':'well',\n",
    "#             'Дата':'date',\n",
    "#             'Причина простоя':'comment',\n",
    "#             'Время работы, ч':'work_time_hr',\n",
    "#             'Нефть, т':'oil_t',\n",
    "#             'Qв, т/сут':'wat_t',\n",
    "#             'Обводненность (масса), %':'wc_tpd',\n",
    "#             }, inplace=True)\n",
    "# ngt = ngt_init[['well', 'date', 'work_time_hr', 'oil_t', 'wat_t', 'wc_tpd']][:-1]\n",
    "# ngt['oil_t'] = ngt['oil_t'].astype(\"float64\")\n",
    "# ngt['date'] = ngt['date'].astype(\"string\")\n",
    "# ngt['date'] = ngt['date'].apply(lambda x: month_dig_change(x))\n",
    "# ngt['date'] = ngt['date'].apply(lambda x: year_dig_change(x))\n",
    "# ngt['date'] = pd.to_datetime(ngt['date'], format = '%d.%Y')\n",
    "# ngt.info()"
   ]
  },
  {
   "cell_type": "markdown",
   "metadata": {},
   "source": [
    "## Data Processing"
   ]
  },
  {
   "cell_type": "code",
   "execution_count": 3,
   "metadata": {},
   "outputs": [],
   "source": [
    "# ngt['oil_tpd'] = (ngt.oil_t/ngt.work_time_hr)*24\n",
    "# ngt.head()"
   ]
  },
  {
   "cell_type": "markdown",
   "metadata": {},
   "source": [
    "## Final Result"
   ]
  },
  {
   "cell_type": "code",
   "execution_count": 22,
   "metadata": {},
   "outputs": [
    {
     "data": {
      "text/plain": [
       "23"
      ]
     },
     "execution_count": 22,
     "metadata": {},
     "output_type": "execute_result"
    }
   ],
   "source": [
    "# well = 39\n",
    "# shmt_clean = shmt.query(f'well == \"{well}\"')\n",
    "# shmt_clean = shmt_clean.dropna(subset = ['pump_type'])\n",
    "# shmt_clean= shmt_clean.dropna(subset = ['q_oil'])\n",
    "# len(shmt_clean)"
   ]
  },
  {
   "cell_type": "code",
   "execution_count": 44,
   "metadata": {},
   "outputs": [
    {
     "data": {
      "text/plain": [
       "<StringArray>\n",
       "['34', '35', '36', '37', '38', '39']\n",
       "Length: 6, dtype: string"
      ]
     },
     "execution_count": 44,
     "metadata": {},
     "output_type": "execute_result"
    }
   ],
   "source": [
    "shmt.well.unique()"
   ]
  },
  {
   "cell_type": "code",
   "execution_count": 57,
   "metadata": {},
   "outputs": [
    {
     "data": {
      "text/html": [
       "<div>\n",
       "<style scoped>\n",
       "    .dataframe tbody tr th:only-of-type {\n",
       "        vertical-align: middle;\n",
       "    }\n",
       "\n",
       "    .dataframe tbody tr th {\n",
       "        vertical-align: top;\n",
       "    }\n",
       "\n",
       "    .dataframe thead th {\n",
       "        text-align: right;\n",
       "    }\n",
       "</style>\n",
       "<table border=\"1\" class=\"dataframe\">\n",
       "  <thead>\n",
       "    <tr style=\"text-align: right;\">\n",
       "      <th></th>\n",
       "      <th>well</th>\n",
       "      <th>date</th>\n",
       "      <th>q_liq</th>\n",
       "      <th>q_oil</th>\n",
       "      <th>wc</th>\n",
       "      <th>wc_chem</th>\n",
       "      <th>pump_type</th>\n",
       "    </tr>\n",
       "  </thead>\n",
       "  <tbody>\n",
       "    <tr>\n",
       "      <th>0</th>\n",
       "      <td>34</td>\n",
       "      <td>2022-12-31</td>\n",
       "      <td>NaN</td>\n",
       "      <td>NaN</td>\n",
       "      <td>NaN</td>\n",
       "      <td>NaN</td>\n",
       "      <td>0215ЭЦНАКИ5А-160-2800</td>\n",
       "    </tr>\n",
       "    <tr>\n",
       "      <th>1</th>\n",
       "      <td>34</td>\n",
       "      <td>2022-12-30</td>\n",
       "      <td>NaN</td>\n",
       "      <td>NaN</td>\n",
       "      <td>NaN</td>\n",
       "      <td>NaN</td>\n",
       "      <td>0215ЭЦНАКИ5А-160-2800</td>\n",
       "    </tr>\n",
       "    <tr>\n",
       "      <th>2</th>\n",
       "      <td>34</td>\n",
       "      <td>2022-12-29</td>\n",
       "      <td>NaN</td>\n",
       "      <td>NaN</td>\n",
       "      <td>NaN</td>\n",
       "      <td>NaN</td>\n",
       "      <td>0215ЭЦНАКИ5А-160-2800</td>\n",
       "    </tr>\n",
       "    <tr>\n",
       "      <th>3</th>\n",
       "      <td>34</td>\n",
       "      <td>2022-12-28</td>\n",
       "      <td>NaN</td>\n",
       "      <td>NaN</td>\n",
       "      <td>NaN</td>\n",
       "      <td>NaN</td>\n",
       "      <td>0215ЭЦНАКИ5А-160-2800</td>\n",
       "    </tr>\n",
       "    <tr>\n",
       "      <th>4</th>\n",
       "      <td>34</td>\n",
       "      <td>2022-12-27</td>\n",
       "      <td>NaN</td>\n",
       "      <td>NaN</td>\n",
       "      <td>NaN</td>\n",
       "      <td>NaN</td>\n",
       "      <td>0215ЭЦНАКИ5А-160-2800</td>\n",
       "    </tr>\n",
       "    <tr>\n",
       "      <th>...</th>\n",
       "      <td>...</td>\n",
       "      <td>...</td>\n",
       "      <td>...</td>\n",
       "      <td>...</td>\n",
       "      <td>...</td>\n",
       "      <td>...</td>\n",
       "      <td>...</td>\n",
       "    </tr>\n",
       "    <tr>\n",
       "      <th>2185</th>\n",
       "      <td>39</td>\n",
       "      <td>2022-01-05</td>\n",
       "      <td>NaN</td>\n",
       "      <td>NaN</td>\n",
       "      <td>NaN</td>\n",
       "      <td>NaN</td>\n",
       "      <td>NaN</td>\n",
       "    </tr>\n",
       "    <tr>\n",
       "      <th>2186</th>\n",
       "      <td>39</td>\n",
       "      <td>2022-01-04</td>\n",
       "      <td>NaN</td>\n",
       "      <td>NaN</td>\n",
       "      <td>NaN</td>\n",
       "      <td>NaN</td>\n",
       "      <td>NaN</td>\n",
       "    </tr>\n",
       "    <tr>\n",
       "      <th>2187</th>\n",
       "      <td>39</td>\n",
       "      <td>2022-01-03</td>\n",
       "      <td>NaN</td>\n",
       "      <td>NaN</td>\n",
       "      <td>NaN</td>\n",
       "      <td>NaN</td>\n",
       "      <td>NaN</td>\n",
       "    </tr>\n",
       "    <tr>\n",
       "      <th>2188</th>\n",
       "      <td>39</td>\n",
       "      <td>2022-01-02</td>\n",
       "      <td>NaN</td>\n",
       "      <td>NaN</td>\n",
       "      <td>NaN</td>\n",
       "      <td>NaN</td>\n",
       "      <td>NaN</td>\n",
       "    </tr>\n",
       "    <tr>\n",
       "      <th>2189</th>\n",
       "      <td>39</td>\n",
       "      <td>2022-01-01</td>\n",
       "      <td>NaN</td>\n",
       "      <td>NaN</td>\n",
       "      <td>NaN</td>\n",
       "      <td>NaN</td>\n",
       "      <td>NaN</td>\n",
       "    </tr>\n",
       "  </tbody>\n",
       "</table>\n",
       "<p>2190 rows × 7 columns</p>\n",
       "</div>"
      ],
      "text/plain": [
       "     well       date  q_liq  q_oil  wc  wc_chem              pump_type\n",
       "0      34 2022-12-31    NaN    NaN NaN      NaN  0215ЭЦНАКИ5А-160-2800\n",
       "1      34 2022-12-30    NaN    NaN NaN      NaN  0215ЭЦНАКИ5А-160-2800\n",
       "2      34 2022-12-29    NaN    NaN NaN      NaN  0215ЭЦНАКИ5А-160-2800\n",
       "3      34 2022-12-28    NaN    NaN NaN      NaN  0215ЭЦНАКИ5А-160-2800\n",
       "4      34 2022-12-27    NaN    NaN NaN      NaN  0215ЭЦНАКИ5А-160-2800\n",
       "...   ...        ...    ...    ...  ..      ...                    ...\n",
       "2185   39 2022-01-05    NaN    NaN NaN      NaN                    NaN\n",
       "2186   39 2022-01-04    NaN    NaN NaN      NaN                    NaN\n",
       "2187   39 2022-01-03    NaN    NaN NaN      NaN                    NaN\n",
       "2188   39 2022-01-02    NaN    NaN NaN      NaN                    NaN\n",
       "2189   39 2022-01-01    NaN    NaN NaN      NaN                    NaN\n",
       "\n",
       "[2190 rows x 7 columns]"
      ]
     },
     "execution_count": 57,
     "metadata": {},
     "output_type": "execute_result"
    }
   ],
   "source": [
    "shmt"
   ]
  },
  {
   "cell_type": "code",
   "execution_count": 62,
   "metadata": {},
   "outputs": [
    {
     "data": {
      "text/plain": [
       "<StringArray>\n",
       "['34', '35', '36', '38', '39']\n",
       "Length: 5, dtype: string"
      ]
     },
     "execution_count": 62,
     "metadata": {},
     "output_type": "execute_result"
    }
   ],
   "source": [
    "wellQuantity = shmt.well.unique()\n",
    "wellQuantity"
   ]
  },
  {
   "cell_type": "code",
   "execution_count": 102,
   "metadata": {
    "scrolled": false
   },
   "outputs": [
    {
     "data": {
      "image/png": "[encoded data removed]",
      "text/plain": [
       "<Figure size 1425.6x360 with 2 Axes>"
      ]
     },
     "metadata": {
      "needs_background": "light"
     },
     "output_type": "display_data"
    },
    {
     "data": {
      "image/png": "[encoded data removed]",
      "text/plain": [
       "<Figure size 1425.6x360 with 2 Axes>"
      ]
     },
     "metadata": {
      "needs_background": "light"
     },
     "output_type": "display_data"
    },
    {
     "data": {
      "image/png": "[encoded data removed]",
      "text/plain": [
       "<Figure size 1425.6x360 with 2 Axes>"
      ]
     },
     "metadata": {
      "needs_background": "light"
     },
     "output_type": "display_data"
    },
    {
     "data": {
      "image/png": "[encoded data removed]",
      "text/plain": [
       "<Figure size 1092.96x360 with 2 Axes>"
      ]
     },
     "metadata": {
      "needs_background": "light"
     },
     "output_type": "display_data"
    },
    {
     "data": {
      "image/png": "[encoded data removed]",
      "text/plain": [
       "<Figure size 546.48x360 with 2 Axes>"
      ]
     },
     "metadata": {
      "needs_background": "light"
     },
     "output_type": "display_data"
    }
   ],
   "source": [
    "period = 60\n",
    "height = 5*len(wellQuantity)\n",
    "# f, ax = plt.subplots(len(wellQuantity), 1, figsize=(25,height))\n",
    "for num, well in enumerate(wellQuantity):\n",
    "    shmt_clean = shmt.query(f'well == \"{well}\"')\n",
    "    shmt_clean = shmt_clean.dropna(subset = ['pump_type'])\n",
    "    shmt_clean= shmt_clean.dropna(subset = ['q_oil'])\n",
    "    shmt_clean = shmt_clean.iloc[period*(-1):]\n",
    "    f, ax = plt.subplots(1, 1, figsize=(len(shmt_clean)*0.33,5))\n",
    "    well_title = 'Otd-' + shmt_clean.well.iloc[0]\n",
    "    \n",
    "    ax.set_title(well_title, fontsize=20)\n",
    "    ax.tick_params(axis='both', which='major', labelsize=16)\n",
    "    ax.scatter(shmt_clean.date, shmt_clean.q_oil, color = '#a52a2a', s=60, label = 'Qн Шахматка')\n",
    "    ax.scatter(shmt_clean.date, shmt_clean.q_liq, color = '#11a83e', s=40, label = 'Qж Шахматка', marker='s')\n",
    "    ax.yaxis.set_major_locator(MultipleLocator(25))\n",
    "    ax.legend(loc='upper left', bbox_to_anchor=(0, 1), fontsize=10)\n",
    "    ax.set_ylim(0)\n",
    "    ax.grid(alpha=0.5)\n",
    "    ax = ax.twinx()\n",
    "    ax.tick_params(axis='both', which='major', labelsize=16)\n",
    "    ax.scatter(shmt_clean.date, shmt_clean.wc, color = '#15eaed',s=30, label = 'Обв Шахматка (неХал)', marker = '>')\n",
    "    ax.set_ylim(0,100)\n",
    "    ax.xaxis.set_major_locator(MultipleLocator(15));\n",
    "    ax.legend(loc='upper left', bbox_to_anchor=(0, 0.85), fontsize=10)\n",
    "    # ax[0].step(ngt.date, ngt.oil_tpd, color = 'black', linewidth=3)\n",
    "    name = well_title + '.pdf'\n",
    "#     plt.savefig(name)\n",
    "plt.tight_layout()\n",
    "plt.savefig('123')"
   ]
  },
  {
   "cell_type": "code",
   "execution_count": 204,
   "metadata": {},
   "outputs": [
    {
     "data": {
      "text/html": [
       "<div>\n",
       "<style scoped>\n",
       "    .dataframe tbody tr th:only-of-type {\n",
       "        vertical-align: middle;\n",
       "    }\n",
       "\n",
       "    .dataframe tbody tr th {\n",
       "        vertical-align: top;\n",
       "    }\n",
       "\n",
       "    .dataframe thead th {\n",
       "        text-align: right;\n",
       "    }\n",
       "</style>\n",
       "<table border=\"1\" class=\"dataframe\">\n",
       "  <thead>\n",
       "    <tr style=\"text-align: right;\">\n",
       "      <th></th>\n",
       "      <th>well</th>\n",
       "      <th>date</th>\n",
       "      <th>q_liq</th>\n",
       "      <th>q_oil</th>\n",
       "      <th>wc</th>\n",
       "      <th>bhp_rsch</th>\n",
       "      <th>pump_type</th>\n",
       "    </tr>\n",
       "  </thead>\n",
       "  <tbody>\n",
       "    <tr>\n",
       "      <th>10113</th>\n",
       "      <td>2620</td>\n",
       "      <td>2018-02-21</td>\n",
       "      <td>62.0</td>\n",
       "      <td>30.833</td>\n",
       "      <td>41.70</td>\n",
       "      <td>0.0</td>\n",
       "      <td>ЭЦН-160-2950</td>\n",
       "    </tr>\n",
       "    <tr>\n",
       "      <th>10114</th>\n",
       "      <td>2620</td>\n",
       "      <td>2018-02-20</td>\n",
       "      <td>62.0</td>\n",
       "      <td>30.833</td>\n",
       "      <td>41.70</td>\n",
       "      <td>0.0</td>\n",
       "      <td>ЭЦН-160-2950</td>\n",
       "    </tr>\n",
       "    <tr>\n",
       "      <th>10115</th>\n",
       "      <td>2620</td>\n",
       "      <td>2018-02-19</td>\n",
       "      <td>62.0</td>\n",
       "      <td>30.833</td>\n",
       "      <td>41.70</td>\n",
       "      <td>0.0</td>\n",
       "      <td>ЭЦН-160-2950</td>\n",
       "    </tr>\n",
       "    <tr>\n",
       "      <th>10116</th>\n",
       "      <td>2620</td>\n",
       "      <td>2018-02-18</td>\n",
       "      <td>62.0</td>\n",
       "      <td>29.881</td>\n",
       "      <td>43.50</td>\n",
       "      <td>0.0</td>\n",
       "      <td>ЭЦН-160-2950</td>\n",
       "    </tr>\n",
       "    <tr>\n",
       "      <th>10117</th>\n",
       "      <td>2620</td>\n",
       "      <td>2018-02-17</td>\n",
       "      <td>62.0</td>\n",
       "      <td>29.881</td>\n",
       "      <td>43.50</td>\n",
       "      <td>0.0</td>\n",
       "      <td>ЭЦН-160-2950</td>\n",
       "    </tr>\n",
       "    <tr>\n",
       "      <th>...</th>\n",
       "      <td>...</td>\n",
       "      <td>...</td>\n",
       "      <td>...</td>\n",
       "      <td>...</td>\n",
       "      <td>...</td>\n",
       "      <td>...</td>\n",
       "      <td>...</td>\n",
       "    </tr>\n",
       "    <tr>\n",
       "      <th>10288</th>\n",
       "      <td>2620</td>\n",
       "      <td>2017-08-30</td>\n",
       "      <td>148.0</td>\n",
       "      <td>37.873</td>\n",
       "      <td>70.00</td>\n",
       "      <td>NaN</td>\n",
       "      <td>ЭЦН-160-2950</td>\n",
       "    </tr>\n",
       "    <tr>\n",
       "      <th>10289</th>\n",
       "      <td>2620</td>\n",
       "      <td>2017-08-29</td>\n",
       "      <td>152.0</td>\n",
       "      <td>37.730</td>\n",
       "      <td>70.90</td>\n",
       "      <td>NaN</td>\n",
       "      <td>ЭЦН-160-2950</td>\n",
       "    </tr>\n",
       "    <tr>\n",
       "      <th>10290</th>\n",
       "      <td>2620</td>\n",
       "      <td>2017-08-28</td>\n",
       "      <td>153.0</td>\n",
       "      <td>36.412</td>\n",
       "      <td>72.10</td>\n",
       "      <td>NaN</td>\n",
       "      <td>ЭЦН-160-2950</td>\n",
       "    </tr>\n",
       "    <tr>\n",
       "      <th>10291</th>\n",
       "      <td>2620</td>\n",
       "      <td>2017-08-27</td>\n",
       "      <td>150.0</td>\n",
       "      <td>30.000</td>\n",
       "      <td>76.55</td>\n",
       "      <td>NaN</td>\n",
       "      <td>ЭЦН-160-2950</td>\n",
       "    </tr>\n",
       "    <tr>\n",
       "      <th>10292</th>\n",
       "      <td>2620</td>\n",
       "      <td>2017-08-26</td>\n",
       "      <td>150.0</td>\n",
       "      <td>30.000</td>\n",
       "      <td>76.55</td>\n",
       "      <td>NaN</td>\n",
       "      <td>ЭЦН-160-2950</td>\n",
       "    </tr>\n",
       "  </tbody>\n",
       "</table>\n",
       "<p>180 rows × 7 columns</p>\n",
       "</div>"
      ],
      "text/plain": [
       "       well       date  q_liq   q_oil     wc  bhp_rsch     pump_type\n",
       "10113  2620 2018-02-21   62.0  30.833  41.70       0.0  ЭЦН-160-2950\n",
       "10114  2620 2018-02-20   62.0  30.833  41.70       0.0  ЭЦН-160-2950\n",
       "10115  2620 2018-02-19   62.0  30.833  41.70       0.0  ЭЦН-160-2950\n",
       "10116  2620 2018-02-18   62.0  29.881  43.50       0.0  ЭЦН-160-2950\n",
       "10117  2620 2018-02-17   62.0  29.881  43.50       0.0  ЭЦН-160-2950\n",
       "...     ...        ...    ...     ...    ...       ...           ...\n",
       "10288  2620 2017-08-30  148.0  37.873  70.00       NaN  ЭЦН-160-2950\n",
       "10289  2620 2017-08-29  152.0  37.730  70.90       NaN  ЭЦН-160-2950\n",
       "10290  2620 2017-08-28  153.0  36.412  72.10       NaN  ЭЦН-160-2950\n",
       "10291  2620 2017-08-27  150.0  30.000  76.55       NaN  ЭЦН-160-2950\n",
       "10292  2620 2017-08-26  150.0  30.000  76.55       NaN  ЭЦН-160-2950\n",
       "\n",
       "[180 rows x 7 columns]"
      ]
     },
     "execution_count": 204,
     "metadata": {},
     "output_type": "execute_result"
    }
   ],
   "source": [
    "shmt_clean_6m"
   ]
  }
 ],
 "metadata": {
  "kernelspec": {
   "display_name": "Python 3",
   "language": "python",
   "name": "python3"
  },
  "language_info": {
   "codemirror_mode": {
    "name": "ipython",
    "version": 3
   },
   "file_extension": ".py",
   "mimetype": "text/x-python",
   "name": "python",
   "nbconvert_exporter": "python",
   "pygments_lexer": "ipython3",
   "version": "3.8.5"
  }
 },
 "nbformat": 4,
 "nbformat_minor": 4
}
