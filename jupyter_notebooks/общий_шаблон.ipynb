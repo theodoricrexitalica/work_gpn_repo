{
 "cells": [
  {
   "cell_type": "code",
   "execution_count": 20,
   "metadata": {},
   "outputs": [],
   "source": [
    "# !chcp 1251\n",
    "import warnings\n",
    "warnings.simplefilter(action='ignore', category=Warning)\n",
    "import pandas as pd\n",
    "import numpy as np\n",
    "import matplotlib.pyplot as plt\n",
    "from matplotlib.ticker import MultipleLocator, ScalarFormatter\n",
    "from matplotlib.patches import Rectangle\n",
    "from matplotlib.gridspec import GridSpec"
   ]
  },
  {
   "cell_type": "code",
   "execution_count": 21,
   "metadata": {},
   "outputs": [],
   "source": [
    "import sys\n",
    "sys.path.append(\"E:\\Soft\\pypi\\lasio-0.31.tar\\\\\")\n",
    "import lasio"
   ]
  },
  {
   "cell_type": "code",
   "execution_count": 22,
   "metadata": {},
   "outputs": [
    {
     "data": {
      "text/html": [
       "<style>.container { width:98% !important; }</style>"
      ],
      "text/plain": [
       "<IPython.core.display.HTML object>"
      ]
     },
     "metadata": {},
     "output_type": "display_data"
    }
   ],
   "source": [
    "# Настройка рабочего стола и вывода инфы в пандас\n",
    "from IPython.display import display, HTML\n",
    "display(HTML(\"<style>.container { width:98% !important; }</style>\"))\n",
    "pd.options.display.max_columns = 15\n",
    "pd.options.display.precision = 7\n",
    "pd.options.display.max_colwidth = 50"
   ]
  },
  {
   "cell_type": "code",
   "execution_count": null,
   "metadata": {},
   "outputs": [],
   "source": []
  },
  {
   "cell_type": "code",
   "execution_count": null,
   "metadata": {},
   "outputs": [],
   "source": [
    "mer_init = pd.read_csv('../all_mers/nng_mur_mer_20230519.csv', encoding = 'cp1251', sep = ';')\n",
    "rigis_init = pd.read_csv('../all_mers/nng_mur_rigis_20230519.csv', encoding = 'cp1251', sep = ';')\n",
    "addinfo_init = pd.read_csv('../all_mers/nng_mur_addinfo_20230519.csv', encoding = 'cp1251', sep = ';')\n",
    "padcoord_init = pd.read_csv('../all_mers/nng_mur_padcoord_20230522.csv', encoding = 'cp1251', sep = ';')\n",
    "geobd_ngt_init = pd.read_csv('../all_mers/nng_mur_geobd_ngt_20230522.csv', encoding = 'cp1251', sep = ';')"
   ]
  },
  {
   "cell_type": "markdown",
   "metadata": {},
   "source": [
    "## Data Upload"
   ]
  },
  {
   "cell_type": "code",
   "execution_count": 319,
   "metadata": {},
   "outputs": [
    {
     "name": "stdout",
     "output_type": "stream",
     "text": [
      "Wall time: 313 ms\n"
     ]
    }
   ],
   "source": [
    "%%time\n",
    "data1_init = pd.read_excel('Скв. 6001 (01.01.2000-30.11.2022).xls', header = 2)\n",
    "data2_init = pd.read_csv('incl.csv', encoding = 'cp1251', sep = ';')\n",
    "data3_init = pd.read_csv('vyng_ds_download.csv', encoding = 'utf8', sep = ';')"
   ]
  },
  {
   "cell_type": "code",
   "execution_count": 1,
   "metadata": {},
   "outputs": [],
   "source": [
    "%%time\n",
    "data1_init.rename(columns = \n",
    "            {'Unnamed: 0':'date',\n",
    "            'Тип':'pump_type',\n",
    "            'Нсп':'depth_pump',\n",
    "            'ТМ':'tm',\n",
    "            'Дисп':'disp',\n",
    "            'OIS':'ois',\n",
    "            'Qж_мас ТМ':'q_liqm_tm',\n",
    "            'Qж':'q_liq',\n",
    "            'Qж ТМ':'q_liq_tm',\n",
    "            'Qж ТМ (исх)':'q_liq_tm_init'}, inplace=True)\n",
    "data1 = data1_init[['date', 'q_liq', 'q_oil', 'wc', 'bhp_rsch', 'pump_type']]\n",
    "data1['date'] = data1['date'].astype(\"string\")\n",
    "data1['date'] = data1['date'].apply(lambda x: month_change(x))\n",
    "data1['date'] = pd.to_datetime(data1['date'])\n",
    "convert_dict = {'oilfield': 'string',\n",
    "                'well': 'string',\n",
    "                'zone': 'string',\n",
    "                'top_dst': 'float64',\n",
    "                'bot_dst': 'float64',\n",
    "               } \n",
    "well_test = well_test.astype(convert_dict)"
   ]
  },
  {
   "cell_type": "markdown",
   "metadata": {},
   "source": [
    "## Data Processing"
   ]
  },
  {
   "cell_type": "code",
   "execution_count": 3,
   "metadata": {},
   "outputs": [],
   "source": [
    "def mer_month_quant(mer, period = 6):\n",
    "    oil_cumul = pd.DataFrame(mer.groupby(['well'])['oil_t'].apply(lambda x: np.nansum(np.array(x[:period]))))\n",
    "    work_time_cumul =  pd.DataFrame(mer.groupby(['well'])['work_time'].apply(lambda x: np.nansum(np.array(x[:period]))))\n",
    "    oil_cumul.rename(columns={'oil_t':'cum_oil_t'}, inplace=True)\n",
    "    work_time_cumul.rename(columns={'work_time':'work_time_hr'}, inplace=True)\n",
    "    result = oil_cumul.join(work_time_cumul)\n",
    "    return result"
   ]
  },
  {
   "cell_type": "markdown",
   "metadata": {},
   "source": [
    "## Final Result"
   ]
  },
  {
   "cell_type": "code",
   "execution_count": null,
   "metadata": {},
   "outputs": [],
   "source": [
    "data1.well.unique()"
   ]
  },
  {
   "cell_type": "code",
   "execution_count": null,
   "metadata": {},
   "outputs": [],
   "source": [
    "ax.hist(oil_6m.oil_6m, bins=20, color = 'green', alpha=0.5, ec=\"black\")"
   ]
  },
  {
   "cell_type": "code",
   "execution_count": 423,
   "metadata": {},
   "outputs": [],
   "source": [
    "for num, wellPlot in enumerate(data1.well.unique()):\n",
    "    f, ax = plt.subplots(1,2,figsize = (15,10))\n",
    "    wellLog1 = data1.query(f'well == \"{wellPlot}\"')\n",
    "    wellLog2 = wellLog1.query('pred_test_ss == 1')\n",
    "    ax[0].set_title(wellPlot + '_logreg', fontsize=20)\n",
    "    # ax[0].yaxis.set_major_locator(MultipleLocator(10))\n",
    "    x = wellLog1.gr\n",
    "    y = wellLog1.tvdss\n",
    "    xz = wellLog2.gr\n",
    "    yz = wellLog2.tvdss\n",
    "    ax[0].scatter(xz, yz, c = 'red')\n",
    "#     ax[0].set_xlim(2,16)\n",
    "    ax[0].invert_yaxis()\n",
    "    ax[0].grid()\n",
    "\n",
    "    wellLog_orig1 = data2.query(f'well == \"{wellPlot}\"')\n",
    "    wellLog_orig2 = wellLog_orig1.query('zones == \"БС9-2-1+2_TOP_S\"')\n",
    "    ax[1].set_title(wellPlot + '_manual', fontsize=20)\n",
    "    # ax[1].yaxis.set_major_locator(MultipleLocator(10))\n",
    "    x_orig = wellLog_orig1.gr\n",
    "    y_orig = wellLog_orig1.tvdss\n",
    "    xz_orig = wellLog_orig2.gr\n",
    "    yz_orig = wellLog_orig2.tvdss\n",
    "    ax[1].scatter(x_orig,y_orig, c = 'green')\n",
    "    ax[1].scatter(xz_orig, yz_orig, c = 'red')\n",
    "#     ax[1].set_xlim(2,16)\n",
    "    ax[1].invert_yaxis()\n",
    "    ax[1].grid()"
   ]
  },
  {
   "cell_type": "code",
   "execution_count": null,
   "metadata": {},
   "outputs": [],
   "source": [
    "def well_plot_creation(well):\n",
    "    fig = plt.figure(figsize=(20, 5))\n",
    "    ws = [1.5, 5]\n",
    "    hs = [1, 1]\n",
    "    gs = GridSpec(ncols=2, nrows=2, figure=fig, width_ratios=ws, height_ratios=hs)\n",
    "\n",
    "    ax1 = plt.subplot(gs[:, 0])\n",
    "    ax1.set_title(well)\n",
    "    ax1.step(mer_sel[mer_sel['имя скважины'] == well]['дата(дд.мм.гггг)'], mer_sel[mer_sel['имя скважины'] == well]['вода т/сут'], c='blue', label = 'вода')\n",
    "    ax1.fill_between(mer_sel[mer_sel['имя скважины'] == well]['дата(дд.мм.гггг)'], mer_sel[mer_sel['имя скважины'] == well]['вода т/сут'], step=\"pre\", alpha=0.4)\n",
    "    ax1.step(mer_sel[mer_sel['имя скважины'] == well]['дата(дд.мм.гггг)'], mer_sel[mer_sel['имя скважины'] == well]['нефть т/сут'], c='brown', label = 'нефть', linewidth = 4)\n",
    "    ax1.fill_between(mer_sel[mer_sel['имя скважины'] == well]['дата(дд.мм.гггг)'], mer_sel[mer_sel['имя скважины'] == well]['нефть т/сут'], step=\"pre\", alpha=0.5)\n",
    "    ax1.xaxis.set_major_formatter(NullFormatter())\n",
    "    ax1.grid(axis = 'y')\n",
    "    ax1.legend()\n",
    "\n",
    "    ax2 = fig.add_subplot(gs[0,1])\n",
    "    ax2.plot(data_gis[data_gis['wellName'] == well]['MD'], data_gis[data_gis['wellName'] == well]['TVDSS'], '--', c='black', label = 'TVDSS')\n",
    "    ax2.invert_yaxis()\n",
    "    ax2.legend(loc='upper right')\n",
    "\n",
    "    ax2.grid()\n",
    "    ax2 = ax2.twinx()  # instantiate a second axes that shares the same x-axis\n",
    "    ax2.plot(data_gis[data_gis['wellName'] == well]['MD'], data_gis[data_gis['wellName'] == well]['GR'], '--', c='green', label = 'GR')\n",
    "    ax2.set_ylim(0, max(data_gis[data_gis['wellName'] == well]['GR'])*1.1)\n",
    "    ax2.legend(bbox_to_anchor=(1, 0.85))\n",
    "    ax3 = fig.add_subplot(gs[1,1])\n",
    "    ax3.semilogy(data_gis[data_gis['wellName'] == well]['MD'], data_gis[data_gis['wellName'] == well]['RT_SH'], c='red', label = 'RT_SH')\n",
    "    ax3.semilogy(data_gis[data_gis['wellName'] == well]['MD'], data_gis[data_gis['wellName'] == well]['RT_DP'], label = 'RT_DP')\n",
    "    ax3.yaxis.set_major_formatter(ScalarFormatter())\n",
    "    ax3.set_ylim(1, 100)\n",
    "    ax3.legend()\n",
    "    ax3.grid(which='major')\n",
    "    ax3.grid(True, which='minor')\n",
    "    fig.tight_layout()\n",
    "    plt.tight_layout()\n",
    "    return"
   ]
  },
  {
   "cell_type": "code",
   "execution_count": null,
   "metadata": {},
   "outputs": [],
   "source": [
    "for i, name_c in enumerate(frac_mer_final_high.index):\n",
    "    ax[1].annotate(name_c, (x_coord_high[i]+100, y_coord_high[i]+100), fontsize = 10)"
   ]
  },
  {
   "cell_type": "code",
   "execution_count": null,
   "metadata": {},
   "outputs": [],
   "source": [
    "sf = ScalarFormatter()\n",
    "sf.set_powerlimits((-4, 4))\n",
    "ax.yaxis.set_major_formatter(sf)"
   ]
  },
  {
   "cell_type": "code",
   "execution_count": null,
   "metadata": {},
   "outputs": [],
   "source": [
    "sns.set_theme(style=\"whitegrid\")\n",
    "ax = sns.displot(data=sns_rigis, x='rt', bins=30, col='well', kde=True, height=5)\n",
    "plt.gca().xaxis.set_major_locator(plt.MultipleLocator(2))\n",
    "plt.xlim(0,30);"
   ]
  },
  {
   "cell_type": "code",
   "execution_count": 1,
   "metadata": {},
   "outputs": [],
   "source": [
    "# Get the full list of styles\n",
    "import seaborn as sns\n",
    "sns.axes_style()\n",
    "custom = {\"axes.edgecolor\": \"black\", \"grid.linestyle\": \"dashed\", \"grid.color\": \"gray\"}\n",
    "sns.set_style(\"whitegrid\", rc = custom)"
   ]
  },
  {
   "cell_type": "code",
   "execution_count": null,
   "metadata": {},
   "outputs": [],
   "source": [
    "def zone_oil_sum(mer=mer):\n",
    "    zonesOilSum = pd.DataFrame(mer.groupby('zone')['oil'].sum())\n",
    "    zonesOilSum.rename(columns={'oil':'oil_sum'}, inplace=True)\n",
    "    zonesOilSum = zonesOilSum.sort_values('oil_sum', ascending=False)\n",
    "    zonesOilSum[['oil_sum']] = zonesOilSum[['oil_sum']].applymap('{:,.0f}'.format)\n",
    "    return zonesOilSum"
   ]
  }
 ],
 "metadata": {
  "kernelspec": {
   "display_name": "Python 3 (ipykernel)",
   "language": "python",
   "name": "python3"
  },
  "language_info": {
   "codemirror_mode": {
    "name": "ipython",
    "version": 3
   },
   "file_extension": ".py",
   "mimetype": "text/x-python",
   "name": "python",
   "nbconvert_exporter": "python",
   "pygments_lexer": "ipython3",
   "version": "3.10.9"
  }
 },
 "nbformat": 4,
 "nbformat_minor": 4
}
